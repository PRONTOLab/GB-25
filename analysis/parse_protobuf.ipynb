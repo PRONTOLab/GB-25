{
 "cells": [
  {
   "cell_type": "code",
   "execution_count": 1,
   "id": "958cccb0-8347-4679-b047-a706b6a1c6a7",
   "metadata": {},
   "outputs": [
    {
     "name": "stderr",
     "output_type": "stream",
     "text": [
      "\u001b[36m\u001b[1m[ \u001b[22m\u001b[39m\u001b[36m\u001b[1mInfo: \u001b[22m\u001b[39mPrecompiling ProtoBuf [3349acd9-ac6a-5e09-bcdb-63829b23a429] (cache misses: wrong source (2))\n"
     ]
    }
   ],
   "source": [
    "using ProtoBuf"
   ]
  },
  {
   "cell_type": "code",
   "execution_count": 3,
   "id": "bd1381f6-8b9d-457e-9c58-f948e611ffd8",
   "metadata": {},
   "outputs": [
    {
     "data": {
      "text/plain": [
       "Main.tensorflow"
      ]
     },
     "execution_count": 3,
     "metadata": {},
     "output_type": "execute_result"
    }
   ],
   "source": [
    "include(joinpath(\"generated\", \"tensorflow\", \"tensorflow.jl\"))"
   ]
  },
  {
   "cell_type": "code",
   "execution_count": 69,
   "id": "5afc37ab-7eee-4672-94a3-cfbc81418951",
   "metadata": {},
   "outputs": [],
   "source": [
    "pb = open(\"nid003468.xplane.pb\") do io\n",
    "    read(io) |> IOBuffer |> ProtoDecoder\n",
    "end\n",
    "xp = decode(pb, tensorflow.profiler.XSpace);"
   ]
  },
  {
   "cell_type": "code",
   "execution_count": 70,
   "id": "5be61b87-7798-4cf7-a692-197b9f327123",
   "metadata": {},
   "outputs": [
    {
     "data": {
      "text/plain": [
       "8-element Vector{String}:\n",
       " \"/host:metadata\"\n",
       " \"/host:__ScopeRangeCallStack__\"\n",
       " \"/device:GPU:0\"\n",
       " \"/device:GPU:1\"\n",
       " \"/device:GPU:2\"\n",
       " \"/device:GPU:3\"\n",
       " \"/host:CPU\"\n",
       " \"Task Environment\""
      ]
     },
     "execution_count": 70,
     "metadata": {},
     "output_type": "execute_result"
    }
   ],
   "source": [
    "xp.planes |> Base.Fix1(map, x->x.name)"
   ]
  },
  {
   "cell_type": "code",
   "execution_count": 56,
   "id": "dcbb35a1-87a6-4506-b76d-60fa0b1b5942",
   "metadata": {},
   "outputs": [
    {
     "data": {
      "text/plain": [
       "170"
      ]
     },
     "execution_count": 56,
     "metadata": {},
     "output_type": "execute_result"
    }
   ],
   "source": [
    "xp.planes[5].lines[1]."
   ]
  },
  {
   "cell_type": "code",
   "execution_count": null,
   "id": "4b218944-2ef9-4250-94ae-030311c24be2",
   "metadata": {},
   "outputs": [],
   "source": []
  }
 ],
 "metadata": {
  "kernelspec": {
   "display_name": "Julia 1.11.4",
   "language": "julia",
   "name": "julia-1.11"
  },
  "language_info": {
   "file_extension": ".jl",
   "mimetype": "application/julia",
   "name": "julia",
   "version": "1.11.4"
  }
 },
 "nbformat": 4,
 "nbformat_minor": 5
}
