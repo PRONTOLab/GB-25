{
 "cells": [
  {
   "cell_type": "code",
   "execution_count": 1,
   "id": "7fc9f0fb-3557-4827-9561-5eea12d709eb",
   "metadata": {},
   "outputs": [],
   "source": [
    "using TranscodingStreams, CodecZlib, JSON, Statistics"
   ]
  },
  {
   "cell_type": "code",
   "execution_count": 2,
   "id": "43b73b51-5ace-464a-84ec-a501fac89c29",
   "metadata": {},
   "outputs": [],
   "source": [
    "using ProtoBuf"
   ]
  },
  {
   "cell_type": "code",
   "execution_count": 3,
   "id": "0190f740-34ac-4889-a0e6-fd7f0f066a49",
   "metadata": {},
   "outputs": [
    {
     "data": {
      "text/plain": [
       "Main.tensorflow"
      ]
     },
     "execution_count": 3,
     "metadata": {},
     "output_type": "execute_result"
    }
   ],
   "source": [
    "include(joinpath(\"xspace\", \"tensorflow\", \"tensorflow.jl\"))"
   ]
  },
  {
   "cell_type": "code",
   "execution_count": 6,
   "id": "dc609433-cb15-4653-bb31-9c8bdf2aae31",
   "metadata": {},
   "outputs": [
    {
     "data": {
      "text/plain": [
       "\"nid200477\""
      ]
     },
     "execution_count": 6,
     "metadata": {},
     "output_type": "execute_result"
    }
   ],
   "source": [
    "sa1 = \"/pscratch/sd/b/blaschke/GB25/sa1/plugins/profile/2025_04_08_20_43_55/\"\n",
    "sa2 = \"/pscratch/sd/b/blaschke/GB25/sa2/plugins/profile/2025_04_08_20_45_58/\"\n",
    "nid = \"nid200477\""
   ]
  },
  {
   "cell_type": "code",
   "execution_count": 13,
   "id": "068ddfd5-127b-4f13-b063-708136580190",
   "metadata": {},
   "outputs": [
    {
     "data": {
      "text/plain": [
       "load_xspace (generic function with 1 method)"
      ]
     },
     "execution_count": 13,
     "metadata": {},
     "output_type": "execute_result"
    }
   ],
   "source": [
    "function load_trace(pth)\n",
    "    stream = GzipDecompressorStream(open(pth))\n",
    "    tprof  = readchomp(stream) |> JSON.parse\n",
    "    close(stream)\n",
    "\n",
    "    return tprof\n",
    "end\n",
    "\n",
    "function load_xspace(pth)\n",
    "    pb = open(pth) do io\n",
    "        read(io) |> IOBuffer |> ProtoDecoder\n",
    "    end\n",
    "    xp = decode(pb, tensorflow.profiler.XSpace);\n",
    "end"
   ]
  },
  {
   "cell_type": "code",
   "execution_count": 17,
   "id": "500b7a9c-fab2-469c-859a-10d21fbe7cdc",
   "metadata": {},
   "outputs": [],
   "source": [
    "sa1_trace = load_trace(joinpath(sa1, \"$(nid).trace.json.gz\"))\n",
    "sa1_xspace = load_xspace(joinpath(sa1, \"$(nid).xplane.pb\"))\n",
    "sa2_trace = load_trace(joinpath(sa2, \"$(nid).trace.json.gz\"))\n",
    "sa2_xspace = load_xspace(joinpath(sa2, \"$(nid).xplane.pb\"))\n",
    ";"
   ]
  },
  {
   "cell_type": "code",
   "execution_count": 19,
   "id": "7ba7fdc3-9606-4e10-8ed7-014deb1f2fba",
   "metadata": {},
   "outputs": [],
   "source": [
    "event_ct = Dict()\n",
    "event_keys = Dict()\n",
    "for event in sa1_trace[\"traceEvents\"]\n",
    "    name = get!(event, \"name\", \"NO_NAME\")\n",
    "    event_ct[name] = get!(event_ct, name, 0) + 1\n",
    "    push!(get!(event_keys, name, []), collect(keys(event)))\n",
    "end"
   ]
  },
  {
   "cell_type": "code",
   "execution_count": 35,
   "id": "7794f5b4-b60d-4232-b636-b9de04a1af03",
   "metadata": {},
   "outputs": [
    {
     "data": {
      "text/plain": [
       "Dict{String, Any} with 6 entries:\n",
       "  \"name\" => \"INSTRUMENTATION\"\n",
       "  \"pid\"  => 701\n",
       "  \"ph\"   => \"X\"\n",
       "  \"dur\"  => 38.264\n",
       "  \"tid\"  => 528642\n",
       "  \"ts\"   => 3.87422e6"
      ]
     },
     "execution_count": 35,
     "metadata": {},
     "output_type": "execute_result"
    }
   ],
   "source": [
    "sa1_trace[\"traceEvents\"] |> filter(x->\"name\" in keys(x) && contains(x[\"name\"], \"INSTRUMENTATION\")) |> first # |> Base.Fix2(getindex, \"args\") "
   ]
  },
  {
   "cell_type": "code",
   "execution_count": 20,
   "id": "5352a6cd-f7fd-47ee-ba83-de7565465777",
   "metadata": {},
   "outputs": [
    {
     "name": "stdout",
     "output_type": "stream",
     "text": [
      "ScheduleGpuModule............................................... => 1\n",
      "ragged-all-to-all-canonicalizer................................. => 1\n",
      "float-normalization-f8e4m3b11fnuz............................... => 2\n",
      "ThreadpoolListener::StartRegion................................. => 4\n",
      "fusion.......................................................... => 1\n",
      "gpu-all-reduce-combiner......................................... => 1\n",
      "reshape-mover................................................... => 2\n",
      "sanitize-constant-names......................................... => 2\n",
      "stream-attribute-annotator...................................... => 2\n",
      "stochastic_convert_decomposer................................... => 1\n",
      "reduction-splitter.............................................. => 1\n",
      "dynamic_padder.................................................. => 1\n",
      "topk-specializer................................................ => 1\n",
      "qr_expander..................................................... => 1\n",
      "reshape_mover_after_conv_canonicalization....................... => 2\n",
      "horizontal_input_fusion......................................... => 1\n",
      "simplify-conditional............................................ => 1\n",
      "tree-reduction-rewriter......................................... => 1\n",
      "float-normalization-f8e5m2fnuz.................................. => 2\n",
      "dot_sparsity_rewriter........................................... => 1\n",
      "scatter-slice-simplifier........................................ => 1\n",
      "remove-no-op-reduce-precision-algebraic-simplifier.............. => 2\n",
      "topk-decomposer................................................. => 2\n",
      "dot_dimension_merger............................................ => 1\n",
      "convolution_4d_expander......................................... => 1\n",
      "float-normalization-u4.......................................... => 2\n",
      "operand_upcaster................................................ => 1\n",
      "simplify-while-loops............................................ => 1\n",
      "gather_simplifier............................................... => 1\n",
      "simplification.................................................. => 2\n",
      "remat-pipeline.................................................. => 2\n",
      "batchnorm_expander.............................................. => 1\n",
      "gpu-reduce-scatter-combiner..................................... => 1\n",
      "GpuCompiler::OptimizeHloModule.................................. => 1\n",
      "sort-rewriter................................................... => 1\n",
      "post-fusion optimization........................................ => 1\n",
      "sharding-removal................................................ => 1\n",
      "RESOURCE........................................................ => 16\n",
      "NO_NAME......................................................... => 1\n",
      "algsimp......................................................... => 13\n",
      "convert-mover................................................... => 2\n",
      "dot_dimension_sorter............................................ => 1\n",
      "collective-schedule-linearizer.................................. => 1\n",
      "gpusolver-rewriter.............................................. => 1\n",
      "float-normalization-f8e4m3...................................... => 2\n",
      "all-reduce-folder............................................... => 1\n",
      "dynamic-index-splitter.......................................... => 1\n",
      "cse............................................................. => 6\n",
      "gather_expander................................................. => 1\n",
      "bitcast_dtypes_expander......................................... => 1\n",
      "float-normalization-f8e4m3fn.................................... => 2\n",
      "float-normalization-f8e3m4...................................... => 2\n",
      "computation-deduplicator........................................ => 2\n",
      "cuMemAlloc_v2................................................... => 1\n",
      "copy-insertion.................................................. => 1\n",
      "scatter_simplifier.............................................. => 4\n",
      "pre-scheduling-passes........................................... => 1\n",
      "logistic-expander............................................... => 1\n",
      "rng-expander.................................................... => 1\n",
      "rename-instructions............................................. => 1\n",
      "triton-softmax-rewriter......................................... => 1\n",
      "float-normalization-bf16........................................ => 4\n",
      "zero_sized_hlo_elimination...................................... => 3\n",
      "call-inliner.................................................... => 4\n",
      "result_caster................................................... => 1\n",
      "cuMemFree_v2.................................................... => 1\n",
      "priority-fusion................................................. => 1\n",
      "fusion-dynamic-memcpy-rewriter.................................. => 1\n",
      "transpose-dimension-grouper..................................... => 1\n",
      "real_imag_expander.............................................. => 1\n",
      "algorithm-checker............................................... => 1\n",
      "post-scheduling-passes.......................................... => 1\n",
      "simplify_after_conv_canonicalization............................ => 2\n",
      "async-stream-attribute-wrapper.................................. => 1\n",
      "constant_folding................................................ => 4\n",
      "Memset.......................................................... => 1\n",
      "windowed-einsum-handler......................................... => 1\n",
      "cudnn-fused-convolution-rewriter................................ => 1\n",
      "simplify-fp-conversions......................................... => 3\n",
      "gemm-fusion-autotuner........................................... => 1\n",
      "convolution-pred-expander....................................... => 1\n",
      "slice-sinker.................................................... => 1\n",
      "cublas-pad-for-gemms............................................ => 3\n",
      "gpu_scatter_expander............................................ => 1\n",
      "float-normalization-f8e8m0fnu................................... => 2\n",
      "while-loop-constant-sinking..................................... => 1\n",
      "simplification-2................................................ => 2\n",
      "dot_decomposer.................................................. => 1\n",
      "convert-memory-placement-to-internal-annotations................ => 1\n",
      "simplify-sorts.................................................. => 1\n",
      "multi_output_fusion............................................. => 1\n",
      "optimization.................................................... => 1\n",
      "reduce-decomposer............................................... => 1\n",
      "gemv-rewriter................................................... => 1\n",
      "GpuCompiler::CompileToBackendResult............................. => 1\n",
      "reduce-scatter-reassociate...................................... => 1\n",
      "cublas-gemm-broadcast-folding-rewriter.......................... => 2\n",
      "collective-optimizations........................................ => 1\n",
      "host-offload-legalize........................................... => 2\n",
      "float-normalization-f8e4m3fnuz.................................. => 2\n",
      "collective-quantizer............................................ => 1\n",
      "dot-algorithm-rewriter.......................................... => 2\n",
      "thread_name..................................................... => 11\n",
      "all-gather-optimizer............................................ => 1\n",
      "optimize_input_output_buffer_alias.............................. => 1\n",
      "collective-permute-combiner..................................... => 1\n",
      "topk-rewriter................................................... => 1\n",
      "cudnn_simplify_padding.......................................... => 1\n",
      "gpu-convert-async-collectives-to-sync........................... => 1\n",
      "block-scaling-rewriter.......................................... => 1\n",
      "process_sort_index.............................................. => 5\n",
      "all-gather-bcast-reorder........................................ => 1\n",
      "Memset 3........................................................ => 1\n",
      "process_name.................................................... => 5\n",
      "move_copy_to_users.............................................. => 1\n",
      "gemm-fusion-swap-operands....................................... => 1\n",
      "layout normalization............................................ => 1\n",
      "host-memory-transfer-asyncifier................................. => 1\n",
      "nvptx post-layout_assignment part 2............................. => 1\n",
      "thread_sort_index............................................... => 11\n",
      "variadic-op-splitter............................................ => 1\n",
      "copy_fusion..................................................... => 1\n",
      "async-to-sync-converter......................................... => 2\n",
      "command-buffer-scheduling....................................... => 3\n",
      "all-reduce-splitter............................................. => 1\n",
      "cublas-gemm-rewriter............................................ => 4\n",
      "nvptx post-layout_assignment part 1............................. => 1\n",
      "cudnn_pad_for_convolutions...................................... => 1\n",
      "reduction-layout-normalizer..................................... => 1\n",
      "reshape-decomposer.............................................. => 2\n",
      "dynamic-dimension-simplifier.................................... => 1\n",
      "comparison-expander............................................. => 1\n",
      "reduction-dimension-grouper..................................... => 1\n",
      "horizontal fusion............................................... => 1\n",
      "layout assignment............................................... => 1\n",
      "dot-merger...................................................... => 1\n",
      "horizontal-loop-fusion-for-copy................................. => 2\n",
      "rematerialization............................................... => 1\n",
      "layout_normalization............................................ => 3\n",
      "post-fusion-simplification-pipeline optimization................ => 1\n",
      "async-collective-conversion..................................... => 1\n",
      "float_normalization............................................. => 4\n",
      "rename_fusions.................................................. => 1\n",
      "while-loop-all-reduce-code-motion............................... => 1\n",
      "dce............................................................. => 10\n",
      "fusion-wrapper.................................................. => 4\n",
      "cudnn-custom-call-converter..................................... => 1\n",
      "sharding-remover................................................ => 1\n",
      "dot_normalizer.................................................. => 1\n",
      "async-collective-annotator...................................... => 1\n",
      "gpu-conv-algorithm-picker....................................... => 1\n",
      "all-reduce-reassociate.......................................... => 1\n",
      "operand_converter............................................... => 1\n",
      "pre-scheduling-copy-insertion................................... => 1\n",
      "stable-sort-expander............................................ => 1\n",
      "reduction-degenerate-dim-remover................................ => 1\n",
      "PjRtStreamExecutorClient::Compile............................... => 1\n",
      "conv-padding-legalization....................................... => 1\n",
      "gather_scatter_normalizer....................................... => 1\n",
      "hlo normalization............................................... => 1\n",
      "post-fusion-verification-pipeline optimization.................. => 1\n",
      "all-reduce-contiguous........................................... => 1\n",
      "hlo-verifier.................................................... => 2\n",
      "float-normalization-f4e2m1fn.................................... => 2\n",
      "cudnn_vectorize_convolutions.................................... => 1\n",
      "all-reduce-simplifier........................................... => 1\n",
      "topk-splitter................................................... => 1\n",
      "float-normalization-f8e5m2...................................... => 2\n",
      "ThreadpoolListener::Record...................................... => 4\n",
      "triton-gemm-rewriter............................................ => 1\n",
      "pre-spmd-partitioner............................................ => 1\n",
      "while-loop-trip-count-annotator................................. => 1\n",
      "reactant_myadd.................................................. => 2\n",
      "eigh_expander................................................... => 1\n",
      "layout-assignment............................................... => 1\n",
      "sub-byte-size-setter............................................ => 3\n",
      "gpu-all-gather-combiner......................................... => 1\n",
      "conv-rewriter................................................... => 1\n",
      "collective-pipeliner-forward.................................... => 1\n",
      "reduce-window-rewriter.......................................... => 1\n",
      "host-offloader.................................................. => 1\n",
      "reduce-scatter-creator.......................................... => 1\n",
      "loop-schedule-linearizer........................................ => 1\n",
      "ThreadpoolListener::StopRegion.................................. => 4\n",
      "scatter_expander................................................ => 1\n",
      "horizontal_loop_fusion.......................................... => 2\n",
      "INSTRUMENTATION................................................. => 8\n",
      "cse_barrier_expander............................................ => 1\n",
      "float-normalization-s4.......................................... => 2\n",
      "transpose-folding............................................... => 2\n",
      "all-reduce-promotion............................................ => 1\n",
      "conv_canonicalization........................................... => 1\n",
      "all-gather-dynamic-slice-simplifier............................. => 1\n",
      "pre-fusion...................................................... => 1\n",
      "fusion-dispatch-pipeline........................................ => 1\n",
      "async-collective-creator........................................ => 1\n",
      "select_and_scatter_expander..................................... => 1\n",
      "rng-bit-generator-expander...................................... => 1\n",
      "fusion-block-level-rewriter..................................... => 1\n",
      "broadcast_canonicalizer......................................... => 2\n",
      "flatten-call-graph.............................................. => 1\n",
      "collectives-schedule-linearizer................................. => 1\n",
      "async-wrapper................................................... => 1\n",
      "explicit-collectives-group-async-wrapper........................ => 1\n",
      "triangular-solve-rewriter....................................... => 1\n",
      "conditional-canonicalizer....................................... => 2\n",
      "tuple-simplifier................................................ => 3\n",
      "post-layout_assignment.......................................... => 1\n"
     ]
    }
   ],
   "source": [
    "for (k, v) in event_ct\n",
    "    name = rpad(k, 64, \".\")\n",
    "    println(\"$(name) => $(v)\")\n",
    "end"
   ]
  },
  {
   "cell_type": "code",
   "execution_count": 36,
   "id": "2b34dc69-d998-412a-8d3f-2341b1660b72",
   "metadata": {},
   "outputs": [
    {
     "data": {
      "text/plain": [
       "8-element Vector{String}:\n",
       " \"/host:metadata\"\n",
       " \"/host:__ScopeRangeCallStack__\"\n",
       " \"/device:GPU:0\"\n",
       " \"/device:GPU:1\"\n",
       " \"/device:GPU:2\"\n",
       " \"/device:GPU:3\"\n",
       " \"/host:CPU\"\n",
       " \"Task Environment\""
      ]
     },
     "execution_count": 36,
     "metadata": {},
     "output_type": "execute_result"
    }
   ],
   "source": [
    "sa1_xspace.planes |> Base.Fix1(map, x->x.name)"
   ]
  },
  {
   "cell_type": "code",
   "execution_count": 109,
   "id": "115b9e1c-1f46-4708-a651-ae692fffbccd",
   "metadata": {},
   "outputs": [
    {
     "data": {
      "text/plain": [
       "Dict{Int64, Main.tensorflow.profiler.XStatMetadata} with 12 entries:\n",
       "  5  => XStatMetadata(5, \"memory_bandwidth\", \"\")\n",
       "  12 => XStatMetadata(12, \"Memset_details\", \"\")\n",
       "  8  => XStatMetadata(8, \"compute_cap_minor\", \"\")\n",
       "  1  => XStatMetadata(1, \"device_vendor\", \"\")\n",
       "  6  => XStatMetadata(6, \"memory_size\", \"\")\n",
       "  11 => XStatMetadata(11, \"kind:device num_bytes:20736 async:1\", \"\")\n",
       "  9  => XStatMetadata(9, \"correlation_id\", \"\")\n",
       "  3  => XStatMetadata(3, \"clock_rate\", \"\")\n",
       "  7  => XStatMetadata(7, \"compute_cap_major\", \"\")\n",
       "  4  => XStatMetadata(4, \"core_count\", \"\")\n",
       "  2  => XStatMetadata(2, \"gpu_device_name\", \"\")\n",
       "  10 => XStatMetadata(10, \"context_id\", \"\")"
      ]
     },
     "execution_count": 109,
     "metadata": {},
     "output_type": "execute_result"
    }
   ],
   "source": [
    "sa2_xspace.planes[3].stat_metadata"
   ]
  },
  {
   "cell_type": "code",
   "execution_count": 77,
   "id": "2a307f0e-882b-4868-a56e-fb626ee67459",
   "metadata": {},
   "outputs": [
    {
     "data": {
      "text/plain": [
       "8-element Vector{Main.tensorflow.profiler.XStat}:\n",
       " Main.tensorflow.profiler.XStat(1, OneOf{String}(:str_value, \"Nvidia\"))\n",
       " Main.tensorflow.profiler.XStat(2, OneOf{String}(:str_value, \"NVIDIA A100-SXM4-80GB\"))\n",
       " Main.tensorflow.profiler.XStat(3, OneOf{Int64}(:int64_value, 1410000))\n",
       " Main.tensorflow.profiler.XStat(4, OneOf{Int64}(:int64_value, 108))\n",
       " Main.tensorflow.profiler.XStat(5, OneOf{UInt64}(:uint64_value, 0x000001dac0414000))\n",
       " Main.tensorflow.profiler.XStat(6, OneOf{UInt64}(:uint64_value, 0x00000013c8dc0000))\n",
       " Main.tensorflow.profiler.XStat(7, OneOf{Int64}(:int64_value, 8))\n",
       " Main.tensorflow.profiler.XStat(8, OneOf{Int64}(:int64_value, 0))"
      ]
     },
     "execution_count": 77,
     "metadata": {},
     "output_type": "execute_result"
    }
   ],
   "source": [
    "sa2_xspace.planes[3].stats"
   ]
  },
  {
   "cell_type": "code",
   "execution_count": 81,
   "id": "538ffbc2-4a81-4357-9a8c-50f834fae584",
   "metadata": {},
   "outputs": [],
   "source": [
    "beast_xspace = load_xspace(\"/pscratch/sd/b/blaschke/GB25/beast.xplane.pb\");"
   ]
  },
  {
   "cell_type": "code",
   "execution_count": 82,
   "id": "e6e2ca9c-187d-41c1-aaca-80f722c50264",
   "metadata": {},
   "outputs": [
    {
     "data": {
      "text/plain": [
       "5-element Vector{String}:\n",
       " \"/host:metadata\"\n",
       " \"/host:__ScopeRangeCallStack__\"\n",
       " \"/device:GPU:0\"\n",
       " \"/host:CPU\"\n",
       " \"Task Environment\""
      ]
     },
     "execution_count": 82,
     "metadata": {},
     "output_type": "execute_result"
    }
   ],
   "source": [
    "beast_xspace.planes |> Base.Fix1(map, x->x.name)"
   ]
  },
  {
   "cell_type": "code",
   "execution_count": 88,
   "id": "d4e79a19-958d-4656-ab2d-a6df2040df19",
   "metadata": {},
   "outputs": [
    {
     "data": {
      "text/plain": [
       "Dict{Int64, Main.tensorflow.profiler.XStatMetadata} with 25 entries:\n",
       "  5  => XStatMetadata(5, \"memory_bandwidth\", \"\")\n",
       "  16 => XStatMetadata(16, \"kernel_details\", \"\")\n",
       "  20 => XStatMetadata(20, \"add\", \"\")\n",
       "  12 => XStatMetadata(12, \"theoretical_occupancy_pct\", \"\")\n",
       "  24 => XStatMetadata(24, \"reactant_f\", \"\")\n",
       "  8  => XStatMetadata(8, \"compute_cap_minor\", \"\")\n",
       "  17 => XStatMetadata(17, \"XlaModule:\", \"\")\n",
       "  1  => XStatMetadata(1, \"device_vendor\", \"\")\n",
       "  19 => XStatMetadata(19, \"name\", \"\")\n",
       "  22 => XStatMetadata(22, \"loop_add_fusion\", \"\")\n",
       "  23 => XStatMetadata(23, \"hlo_module\", \"\")\n",
       "  6  => XStatMetadata(6, \"memory_size\", \"\")\n",
       "  11 => XStatMetadata(11, \"context_id\", \"\")\n",
       "  9  => XStatMetadata(9, \"correlation_id\", \"\")\n",
       "  14 => XStatMetadata(14, \"occupancy_suggested_block_size\", \"\")\n",
       "  3  => XStatMetadata(3, \"clock_rate\", \"\")\n",
       "  7  => XStatMetadata(7, \"compute_cap_major\", \"\")\n",
       "  25 => XStatMetadata(25, \"program_id\", \"\")\n",
       "  4  => XStatMetadata(4, \"core_count\", \"\")\n",
       "  15 => XStatMetadata(15, \"regs:16 static_shared:0 dynamic_shared:0 grid:79,1,1…\n",
       "  21 => XStatMetadata(21, \"hlo_op\", \"\")\n",
       "  2  => XStatMetadata(2, \"gpu_device_name\", \"\")\n",
       "  10 => XStatMetadata(10, \"scope_range_id\", \"\")\n",
       "  18 => XStatMetadata(18, \"tf_op\", \"\")\n",
       "  13 => XStatMetadata(13, \"occupancy_min_grid_size\", \"\")"
      ]
     },
     "execution_count": 88,
     "metadata": {},
     "output_type": "execute_result"
    }
   ],
   "source": [
    "beast_xspace.planes[3].stat_metadata"
   ]
  },
  {
   "cell_type": "code",
   "execution_count": 138,
   "id": "a0f17a44-3c6b-4e91-915f-79d72c3456e9",
   "metadata": {},
   "outputs": [
    {
     "data": {
      "text/plain": [
       "Dict{Int64, Main.tensorflow.profiler.XEventMetadata} with 1 entry:\n",
       "  1 => XEventMetadata(1, \"loop_add_fusion\", \"\", UInt8[], XStat[], Int64[])"
      ]
     },
     "execution_count": 138,
     "metadata": {},
     "output_type": "execute_result"
    }
   ],
   "source": [
    "beast_xspace.planes[3].event_metadata"
   ]
  },
  {
   "cell_type": "code",
   "execution_count": 140,
   "id": "dfe5a8cb-c7a6-4fee-8411-e2f24121b749",
   "metadata": {},
   "outputs": [
    {
     "data": {
      "text/plain": [
       "12-element Vector{Main.tensorflow.profiler.XStat}:\n",
       " Main.tensorflow.profiler.XStat(9, OneOf{UInt64}(:uint64_value, 0x0000000000000001))\n",
       " Main.tensorflow.profiler.XStat(10, OneOf{Int64}(:int64_value, 2))\n",
       " Main.tensorflow.profiler.XStat(11, OneOf{String}(:str_value, \"\\$\\$1\"))\n",
       " Main.tensorflow.profiler.XStat(12, OneOf{Float64}(:double_value, 100.0))\n",
       " Main.tensorflow.profiler.XStat(13, OneOf{Int64}(:int64_value, 164))\n",
       " Main.tensorflow.profiler.XStat(14, OneOf{Int64}(:int64_value, 768))\n",
       " Main.tensorflow.profiler.XStat(16, OneOf{UInt64}(:ref_value, 0x000000000000000f))\n",
       " Main.tensorflow.profiler.XStat(18, OneOf{UInt64}(:ref_value, 0x0000000000000011))\n",
       " Main.tensorflow.profiler.XStat(19, OneOf{UInt64}(:ref_value, 0x0000000000000014))\n",
       " Main.tensorflow.profiler.XStat(21, OneOf{UInt64}(:ref_value, 0x0000000000000016))\n",
       " Main.tensorflow.profiler.XStat(23, OneOf{UInt64}(:ref_value, 0x0000000000000018))\n",
       " Main.tensorflow.profiler.XStat(25, OneOf{Int64}(:int64_value, 1))"
      ]
     },
     "execution_count": 140,
     "metadata": {},
     "output_type": "execute_result"
    }
   ],
   "source": [
    "beast_xspace.planes[3].lines[1].events[1].stats"
   ]
  },
  {
   "cell_type": "code",
   "execution_count": 141,
   "id": "abec94af-d016-494f-a051-675fa203781d",
   "metadata": {},
   "outputs": [
    {
     "data": {
      "text/plain": [
       "0.21354166666666666"
      ]
     },
     "execution_count": 141,
     "metadata": {},
     "output_type": "execute_result"
    }
   ],
   "source": [
    "164/768"
   ]
  },
  {
   "cell_type": "code",
   "execution_count": null,
   "id": "4a9ce152-4f2b-4028-9d21-86e41526f215",
   "metadata": {},
   "outputs": [],
   "source": []
  }
 ],
 "metadata": {
  "kernelspec": {
   "display_name": "NERSC Julia 1.11.4 8 Thread(s) Beta",
   "language": "julia",
   "name": "nersc-julia-8-1.11.4-beta"
  },
  "language_info": {
   "file_extension": ".jl",
   "mimetype": "application/julia",
   "name": "julia",
   "version": "1.11.4"
  }
 },
 "nbformat": 4,
 "nbformat_minor": 5
}
