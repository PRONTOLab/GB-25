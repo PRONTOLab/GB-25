{
 "cells": [
  {
   "cell_type": "code",
   "execution_count": 1,
   "id": "dd87fb76-2b84-4d17-a816-0a156c33ea90",
   "metadata": {},
   "outputs": [],
   "source": [
    "using TranscodingStreams, CodecZlib, JSON, Statistics"
   ]
  },
  {
   "cell_type": "code",
   "execution_count": 2,
   "id": "a8ac3421-3235-41d0-9239-36dca3ab2c0b",
   "metadata": {},
   "outputs": [
    {
     "data": {
      "text/plain": [
       "\"/pscratch/sd/b/blaschke/GB25/runs/\""
      ]
     },
     "execution_count": 2,
     "metadata": {},
     "output_type": "execute_result"
    }
   ],
   "source": [
    "prefix = \"/pscratch/sd/b/blaschke/GB25/runs/\""
   ]
  },
  {
   "cell_type": "code",
   "execution_count": 3,
   "id": "da6dff26-e4ac-4a98-9e27-477c5d74e6a5",
   "metadata": {},
   "outputs": [
    {
     "data": {
      "text/plain": [
       "\"2025-04-07T00-53-00.048_ytYO\""
      ]
     },
     "execution_count": 3,
     "metadata": {},
     "output_type": "execute_result"
    }
   ],
   "source": [
    "run_dir = \"2025-04-07T00-53-00.048_ytYO\""
   ]
  },
  {
   "cell_type": "code",
   "execution_count": 6,
   "id": "f7c8dc87-cb4a-4b63-a782-d781d4843d1f",
   "metadata": {},
   "outputs": [
    {
     "data": {
      "text/plain": [
       "get_nccl_stats (generic function with 1 method)"
      ]
     },
     "execution_count": 6,
     "metadata": {},
     "output_type": "execute_result"
    }
   ],
   "source": [
    "function test_dir(ng::Int)::String\n",
    "    nstr = lpad(ng, 5, \"0\")\n",
    "    \"ngpu=$(nstr)\"\n",
    "end\n",
    "\n",
    "get_jobid(pth::String)::String = readdir(pth) |> \n",
    "    filter(endswith(\".err\"))                  |> \n",
    "    only                                      |>\n",
    "    Base.Fix2(split, \".\")                     |>\n",
    "    first\n",
    "\n",
    "function profile_for_job(root::String, jid::String, rank::Int)::String\n",
    "    pdir  = joinpath(root, \"profiling\", \"$(jid).$(rank)\", \"loop\", \"plugins\", \"profile\")\n",
    "    ddir  = readdir(pdir) |> only\n",
    "    tpath = joinpath(pdir, ddir) |> readdir |>\n",
    "        Base.Fix1(filter, endswith(\".trace.json.gz\")) |>\n",
    "        only\n",
    "    joinpath(pdir, ddir, tpath)\n",
    "end\n",
    "\n",
    "function get_nccl_stats(pth::String)\n",
    "    stream = GzipDecompressorStream(open(pth))\n",
    "    tprof  = readchomp(stream) |> JSON.parse\n",
    "    close(stream)\n",
    "\n",
    "    nccl_events = tprof[\"traceEvents\"] |> filter(x->\"name\" in keys(x) && contains(x[\"name\"], \"nccl\"))\n",
    "\n",
    "    nccl_stats = Dict()\n",
    "    for event in nccl_events\n",
    "        if !(\"name\" in keys(event)) || !(\"dur\" in keys(event))\n",
    "            continue\n",
    "        end\n",
    "        push!(get!(nccl_stats, event[\"name\"], []), event[\"dur\"])\n",
    "    end\n",
    "\n",
    "    nccl_summary = Dict()\n",
    "    for event_type in keys(nccl_stats)\n",
    "        events = nccl_stats[event_type]\n",
    "        nccl_summary[event_type] = (\n",
    "            mean = mean(events),\n",
    "            std  = std(events),\n",
    "            sum  = sum(events),\n",
    "            freq = length(events)\n",
    "        )\n",
    "    end\n",
    "\n",
    "    nccl_summary, nccl_stats\n",
    "end"
   ]
  },
  {
   "cell_type": "code",
   "execution_count": 7,
   "id": "982084e7-44de-49a7-b213-99d48225fe33",
   "metadata": {},
   "outputs": [
    {
     "data": {
      "text/plain": [
       "\"/pscratch/sd/b/blaschke/GB25/runs/2025-04-07T00-53-00.048_ytYO/profiling/37518693.0/loop/plugins/profile/2025_04_07_01_01_36/nid001448.trace.json.gz\""
      ]
     },
     "execution_count": 7,
     "metadata": {},
     "output_type": "execute_result"
    }
   ],
   "source": [
    "jid   = get_jobid(joinpath(prefix, run_dir, test_dir(4)))\n",
    "tpath = profile_for_job(joinpath(prefix, run_dir), jid, 0)"
   ]
  },
  {
   "cell_type": "code",
   "execution_count": 13,
   "id": "37715e68-29e1-4ed8-8226-79acd8788a40",
   "metadata": {},
   "outputs": [
    {
     "data": {
      "text/plain": [
       "(Dict{Any, Any}(\"ncclDevKernel_AllReduce_Sum_f64_RING_LL(ncclDevKernelArgsStorage<4096ul>)\" => (mean = 7.663837837837841, std = 19.350766902041155, sum = 163331.71200000006, freq = 21312), \"ncclDevKernel_SendRecv(ncclDevKernelArgsStorage<4096ul>)\" => (mean = 6.934242884789518, std = 10.178049737066774, sum = 3.124458896e6, freq = 450584), \"ncclDevKernel_AllGather_RING_LL(ncclDevKernelArgsStorage<4096ul>)\" => (mean = 16.872203703703697, std = 34.81005526843525, sum = 10933.187999999996, freq = 648)), Dict{Any, Any}(\"ncclDevKernel_AllReduce_Sum_f64_RING_LL(ncclDevKernelArgsStorage<4096ul>)\" => Any[4.168, 7.084, 14.208, 10.289, 11.04, 9.344, 8.032, 8.608, 3.377, 3.747  …  85.695, 64.576, 3.537, 8.608, 8.064, 3.276, 7.328, 7.104, 8.096, 6.784], \"ncclDevKernel_SendRecv(ncclDevKernelArgsStorage<4096ul>)\" => Any[8.216, 9.719, 9.017, 8.507, 20.607, 13.984, 11.967, 13.312, 4.558, 5.511  …  5.08, 5.07, 10.624, 3.397, 8.768, 10.08, 3.547, 8.96, 4.298, 11.68], \"ncclDevKernel_AllGather_RING_LL(ncclDevKernelArgsStorage<4096ul>)\" => Any[7.995, 11.202, 5.39, 12.063, 11.551, 24.512, 5.42, 12.416, 4.68, 32.992  …  14.688, 15.36, 4.558, 3.917, 3.958, 24.16, 29.088, 10.304, 3.967, 13.792]))"
      ]
     },
     "execution_count": 13,
     "metadata": {},
     "output_type": "execute_result"
    }
   ],
   "source": [
    "st, _ = get_nccl_stats(tpath)"
   ]
  },
  {
   "cell_type": "code",
   "execution_count": 14,
   "id": "3211f57c-20a0-4045-b765-b4a34f7642f0",
   "metadata": {},
   "outputs": [
    {
     "data": {
      "text/plain": [
       "\"ncclDevKernel_SendRecv(ncclDevKernelArgsStorage<4096ul>)\""
      ]
     },
     "execution_count": 14,
     "metadata": {},
     "output_type": "execute_result"
    }
   ],
   "source": [
    "k_sendrecv = keys(st) |> filter(startswith(\"ncclDevKernel_SendRecv\")) |> only"
   ]
  },
  {
   "cell_type": "code",
   "execution_count": 15,
   "id": "e2ff070e-ffc9-47e6-84b2-aa42c020432d",
   "metadata": {},
   "outputs": [
    {
     "data": {
      "text/plain": [
       "(mean = 6.934242884789518, std = 10.178049737066774, sum = 3.124458896e6, freq = 450584)"
      ]
     },
     "execution_count": 15,
     "metadata": {},
     "output_type": "execute_result"
    }
   ],
   "source": [
    "st[k_sendrecv]"
   ]
  },
  {
   "cell_type": "code",
   "execution_count": null,
   "id": "0fa79cb4-5956-4a40-aae4-e685b33df6ce",
   "metadata": {},
   "outputs": [],
   "source": []
  }
 ],
 "metadata": {
  "kernelspec": {
   "display_name": "NERSC Julia 1.11.4 8 Thread(s) Beta",
   "language": "julia",
   "name": "nersc-julia-8-1.11.4-beta"
  },
  "language_info": {
   "file_extension": ".jl",
   "mimetype": "application/julia",
   "name": "julia",
   "version": "1.11.4"
  }
 },
 "nbformat": 4,
 "nbformat_minor": 5
}
